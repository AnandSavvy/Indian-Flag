{
 "cells": [
  {
   "cell_type": "code",
   "execution_count": 2,
   "id": "87c75207",
   "metadata": {},
   "outputs": [
    {
     "data": {
      "image/png": "[encoded data removed]",
      "text/plain": [
       "<Figure size 432x288 with 1 Axes>"
      ]
     },
     "metadata": {
      "needs_background": "light"
     },
     "output_type": "display_data"
    }
   ],
   "source": [
    "import numpy as np\n",
    "import matplotlib.pyplot as py\n",
    "import matplotlib.patches as patch\n",
    "\n",
    "a = patch.Rectangle((0,1), width=12, height=2, facecolor='green', edgecolor='grey')\n",
    "b = patch.Rectangle((0,3), width=12, height=2, facecolor='white', edgecolor='grey')\n",
    "c = patch.Rectangle((0,5), width=12, height=2, facecolor='#FF9933', edgecolor='grey')\n",
    "\n",
    "m,n= py.subplots()\n",
    "n.add_patch(a)\n",
    "n.add_patch(b)\n",
    "n.add_patch(c)\n",
    "radius=0.8\n",
    "\n",
    "py.plot(6,4, marker= 'o',markerfacecolor='#000088FF', markersize=9.5)\n",
    "chakra= py.Circle((6, 4), radius, color='#000088ff', fill=False, linewidth=7)\n",
    "n.add_artist(chakra)\n",
    "\n",
    "for i in range(0, 24):\n",
    "\n",
    "    p= 6 + radius/2 * np.cos(np.pi*i/12 + np.pi/48)\n",
    "    q= 6 + radius/2 * np.cos(np.pi*i/12 - np.pi/48)\n",
    "    r= 4 + radius/2 * np.sin(np.pi*i/12 + np.pi/48)\n",
    "    s= 4 + radius/2 * np.sin(np.pi*i/12 - np.pi/48)\n",
    "    t= 6 + radius * np.cos(np.pi*i/12)\n",
    "    u= 4 + radius * np.sin(np.pi*i/12)\n",
    "    n.add_patch(patch.Polygon([[6,4],[p,r],[t,u],[q,s]], fill=True, closed=True, color=\"#000088FF\"))\n",
    "\n",
    "py.axis('equal')\n",
    "py.show()"
   ]
  },
  {
   "cell_type": "code",
   "execution_count": 20,
   "id": "cf7f017e",
   "metadata": {},
   "outputs": [
    {
     "data": {
      "image/png": "[encoded data removed]",
      "text/plain": [
       "<Figure size 432x288 with 1 Axes>"
      ]
     },
     "metadata": {
      "needs_background": "light"
     },
     "output_type": "display_data"
    }
   ],
   "source": [
    "import numpy as np\n",
    "import matplotlib.pyplot as py\n",
    "import matplotlib.patches as patch\n",
    "\n",
    "# a = patch.Rectangle((0,1), width=12, height=2, facecolor='green', edgecolor='grey')\n",
    "# b = patch.Rectangle((0,3), width=12, height=2, facecolor='white', edgecolor='grey')\n",
    "#c = patch.Rectangle((0,5), width=12, height=2, facecolor='#FF9933', edgecolor='grey')\n",
    "\n",
    "m,n= py.subplots()\n",
    "# n.add_patch(a)\n",
    "# n.add_patch(b)\n",
    "#n.add_patch(c)\n",
    "radius=0.8\n",
    "\n",
    "#py.plot(6,4, marker= '',markerfacecolor='#0000FF', markersize=6.4)\n",
    "b = patch.Rectangle((0,0), width=12, height=7, facecolor='blue', edgecolor='grey')\n",
    "#chakra= py.Circle((6, 4), radius, color='#000088ff', fill=False, linewidth=7)\n",
    "#n.add_artist(chakra)\n",
    "n.add_patch(b)\n",
    "\n",
    "for i in range(0, 24):\n",
    "\n",
    "#     p= 6 + radius/2 * np.cos(np.pi*i/12 + np.pi/48)\n",
    "#     q= 6 + radius/2 * np.cos(np.pi*i/12 - np.pi/48)\n",
    "#     r= 4 + radius/2 * np.sin(np.pi*i/12 + np.pi/48)\n",
    "#     s= 4 + radius/2 * np.sin(np.pi*i/12 - np.pi/48)\n",
    "#     t= 6 + radius * np.cos(np.pi*i/12)\n",
    "#     u= 4 + radius * np.sin(np.pi*i/12)\n",
    "    n.add_patch(patch.Polygon([[6,4],[p,r],[t,u],[q,s]], fill=True, closed=True, color=\"#000088FF\"))\n",
    "\n",
    "py.axis('equal')\n",
    "py.show()"
   ]
  },
  {
   "cell_type": "code",
   "execution_count": 48,
   "id": "a158179f",
   "metadata": {},
   "outputs": [
    {
     "ename": "NameError",
     "evalue": "name 'image' is not defined",
     "output_type": "error",
     "traceback": [
      "\u001b[1;31m---------------------------------------------------------------------------\u001b[0m",
      "\u001b[1;31mNameError\u001b[0m                                 Traceback (most recent call last)",
      "\u001b[1;32m~\\AppData\\Local\\Temp/ipykernel_21200/3735696785.py\u001b[0m in \u001b[0;36m<module>\u001b[1;34m\u001b[0m\n\u001b[0;32m     13\u001b[0m \u001b[1;33m\u001b[0m\u001b[0m\n\u001b[0;32m     14\u001b[0m \u001b[1;32mfrom\u001b[0m \u001b[0mPIL\u001b[0m \u001b[1;32mimport\u001b[0m \u001b[0mImage\u001b[0m\u001b[1;33m\u001b[0m\u001b[1;33m\u001b[0m\u001b[0m\n\u001b[1;32m---> 15\u001b[1;33m \u001b[0mimage1\u001b[0m\u001b[1;33m=\u001b[0m\u001b[0mimage\u001b[0m\u001b[1;33m.\u001b[0m\u001b[0mopen\u001b[0m\u001b[1;33m(\u001b[0m\u001b[1;34m'elephant__.jpg'\u001b[0m\u001b[1;33m)\u001b[0m\u001b[1;33m\u001b[0m\u001b[1;33m\u001b[0m\u001b[0m\n\u001b[0m\u001b[0;32m     16\u001b[0m \u001b[1;31m#myImage = Image.open(file =\"C:\\\\Users\\\\ACER\\\\Downloads\\\\elephant__.jpg\")\u001b[0m\u001b[1;33m\u001b[0m\u001b[1;33m\u001b[0m\u001b[0m\n\u001b[0;32m     17\u001b[0m \u001b[0mmyImage\u001b[0m\u001b[1;33m.\u001b[0m\u001b[0mshow\u001b[0m\u001b[1;33m(\u001b[0m\u001b[1;33m)\u001b[0m\u001b[1;33m;\u001b[0m\u001b[1;33m\u001b[0m\u001b[1;33m\u001b[0m\u001b[0m\n",
      "\u001b[1;31mNameError\u001b[0m: name 'image' is not defined"
     ]
    },
    {
     "data": {
      "image/png": "[encoded data removed]",
      "text/plain": [
       "<Figure size 432x288 with 1 Axes>"
      ]
     },
     "metadata": {
      "needs_background": "light"
     },
     "output_type": "display_data"
    }
   ],
   "source": [
    "import numpy as np\n",
    "import matplotlib.pyplot as py\n",
    "import matplotlib.patches as patch\n",
    "\n",
    "\n",
    "\n",
    "m,n= py.subplots()\n",
    "radius=0.8\n",
    "\n",
    "\n",
    "b = patch.Rectangle((0,0), width=12, height=7, facecolor='blue', edgecolor='grey')\n",
    "n.add_patch(b)\n",
    "\n",
    "from PIL import Image\n",
    "image1=image.open('elephant__.jpg')\n",
    "#myImage = Image.open(file =\"C:\\\\Users\\\\ACER\\\\Downloads\\\\elephant__.jpg\")\n",
    "myImage.show();\n",
    "#<img align=\"right\" width=\"400\" src=\"C:\\Users\\ACER\\Downloads\">\n",
    "\n",
    "py.axis('equal')\n",
    "py.show()"
   ]
  },
  {
   "cell_type": "code",
   "execution_count": null,
   "id": "e1d7276a",
   "metadata": {},
   "outputs": [],
   "source": []
  },
  {
   "cell_type": "code",
   "execution_count": null,
   "id": "4a92a22a",
   "metadata": {},
   "outputs": [],
   "source": []
  }
 ],
 "metadata": {
  "kernelspec": {
   "display_name": "Python 3 (ipykernel)",
   "language": "python",
   "name": "python3"
  },
  "language_info": {
   "codemirror_mode": {
    "name": "ipython",
    "version": 3
   },
   "file_extension": ".py",
   "mimetype": "text/x-python",
   "name": "python",
   "nbconvert_exporter": "python",
   "pygments_lexer": "ipython3",
   "version": "3.10.1"
  }
 },
 "nbformat": 4,
 "nbformat_minor": 5
}
